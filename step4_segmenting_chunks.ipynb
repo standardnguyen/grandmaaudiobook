{
 "cells": [
  {
   "cell_type": "code",
   "execution_count": null,
   "metadata": {},
   "outputs": [],
   "source": [
    "import os\n",
    "from pydub import AudioSegment\n",
    "from pydub.silence import split_on_silence\n",
    "\n",
    "# Define paths\n",
    "input_audio_path = \"dataset/full_audio.wav\"\n",
    "output_dir = \"dataset/audio_segments\"\n",
    "\n",
    "# Ensure the output directory exists\n",
    "os.makedirs(output_dir, exist_ok=True)\n",
    "\n",
    "# Load the entire audiobook\n",
    "audio = AudioSegment.from_wav(input_audio_path)\n",
    "\n",
    "# Split on silence (adjust parameters as needed)\n",
    "chunks = split_on_silence(audio, min_silence_len=1000, silence_thresh=-40)\n",
    "\n",
    "# Ensure chunks are between 5 to 15 seconds\n",
    "final_chunks = []\n",
    "min_length = 5 * 1000  # 5 seconds in milliseconds\n",
    "max_length = 15 * 1000  # 15 seconds in milliseconds\n",
    "\n",
    "for chunk in chunks:\n",
    "    if len(chunk) >= min_length:\n",
    "        final_chunks.append(chunk)\n",
    "    else:\n",
    "        if final_chunks:\n",
    "            final_chunks[-1] += chunk  # Append short chunk to the previous chunk\n",
    "        else:\n",
    "            final_chunks.append(chunk)  # Handle the case where the first chunk is too short\n",
    "\n",
    "# Re-check to split longer chunks\n",
    "final_chunks_split = []\n",
    "for chunk in final_chunks:\n",
    "    while len(chunk) > max_length:\n",
    "        final_chunks_split.append(chunk[:max_length])\n",
    "        chunk = chunk[max_length:]\n",
    "    final_chunks_split.append(chunk)\n",
    "\n",
    "# Export each chunk\n",
    "for i, chunk in enumerate(final_chunks_split):\n",
    "    chunk.export(os.path.join(output_dir, f\"chunk_{i}.wav\"), format=\"wav\")\n",
    "\n",
    "print(f\"Exported {len(final_chunks_split)} chunks to {output_dir}\")\n"
   ]
  }
 ],
 "metadata": {
  "language_info": {
   "name": "python"
  }
 },
 "nbformat": 4,
 "nbformat_minor": 2
}
