{
 "cells": [
  {
   "cell_type": "code",
   "execution_count": null,
   "metadata": {},
   "outputs": [],
   "source": [
    "import os\n",
    "import openai\n",
    "\n",
    "# Set up OpenAI API key\n",
    "openai.api_key = 'your_openai_api_key'\n",
    "\n",
    "def analyze_sentiment(text):\n",
    "    response = openai.Completion.create(\n",
    "        engine=\"text-davinci-003\",\n",
    "        prompt=f\"Analyze the sentiment of the following Vietnamese text and provide an emotion label in English (e.g., happy, sad, angry, neutral):\\n\\n{text}\\n\\nSentiment:\",\n",
    "        max_tokens=10\n",
    "    )\n",
    "    sentiment = response.choices[0].text.strip()\n",
    "    return sentiment\n",
    "\n",
    "# Define directories\n",
    "transcripts_dir = \"dataset/transcripts\"\n",
    "annotated_transcripts_dir = \"dataset/annotated_transcripts\"\n",
    "\n",
    "# Ensure the annotated transcripts directory exists\n",
    "os.makedirs(annotated_transcripts_dir, exist_ok=True)\n",
    "\n",
    "# Annotate each transcript with sentiment\n",
    "annotated_transcripts = []\n",
    "for transcript_file in os.listdir(transcripts_dir):\n",
    "    if transcript_file.endswith(\".txt\"):\n",
    "        with open(os.path.join(transcripts_dir, transcript_file), \"r\") as f:\n",
    "            transcript = f.read()\n",
    "        sentiment = analyze_sentiment(transcript)\n",
    "        annotated_transcript = f\"[{sentiment}] {transcript}\"\n",
    "        annotated_transcripts.append((transcript_file, annotated_transcript))\n",
    "        annotated_transcript_path = os.path.join(annotated_transcripts_dir, transcript_file)\n",
    "        with open(annotated_transcript_path, \"w\") as f:\n",
    "            f.write(annotated_transcript)\n",
    "\n",
    "print(f\"Annotated transcripts saved in {annotated_transcripts_dir}\")\n"
   ]
  }
 ],
 "metadata": {
  "language_info": {
   "name": "python"
  }
 },
 "nbformat": 4,
 "nbformat_minor": 2
}
