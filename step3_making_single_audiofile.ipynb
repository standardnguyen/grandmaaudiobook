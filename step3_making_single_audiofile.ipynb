{
 "cells": [
  {
   "cell_type": "code",
   "execution_count": 1,
   "metadata": {},
   "outputs": [],
   "source": [
    "import os\n",
    "from pydub import AudioSegment\n",
    "import hashlib\n",
    "\n",
    "def find_mp3_files(directory):\n",
    "    mp3_files = []\n",
    "    for root, _, files in os.walk(directory):\n",
    "        for file in files:\n",
    "            if file.endswith(\".mp3\"):\n",
    "                mp3_files.append(os.path.join(root, file))\n",
    "    return mp3_files\n",
    "\n",
    "def generate_unique_filename(file_path, extension=\"wav\"):\n",
    "    # Generate a unique hash based on the file path\n",
    "    file_hash = hashlib.md5(file_path.encode()).hexdigest()\n",
    "    # Extract the base name without extension and append the hash\n",
    "    base_name = os.path.splitext(os.path.basename(file_path))[0]\n",
    "    unique_name = f\"{base_name}_{file_hash}.{extension}\"\n",
    "    return unique_name\n",
    "\n",
    "def convert_mp3_to_wav(mp3_path, wav_path):\n",
    "    # Load MP3 file\n",
    "    audio = AudioSegment.from_mp3(mp3_path)\n",
    "    # Export as WAV with the same sample rate and bit depth\n",
    "    audio.export(wav_path, format=\"wav\")\n",
    "\n",
    "def merge_wav_files(wav_files, output_path):\n",
    "    combined = AudioSegment.empty()\n",
    "    for wav_file in wav_files:\n",
    "        audio = AudioSegment.from_wav(wav_file)\n",
    "        combined += audio\n",
    "    combined.export(output_path, format=\"wav\")\n",
    "\n",
    "\n",
    "\n"
   ]
  },
  {
   "cell_type": "code",
   "execution_count": 2,
   "metadata": {},
   "outputs": [],
   "source": [
    "raw_data_dir = \"raw_data\"\n",
    "preprocessing_dir = \"dataset\"\n",
    "os.makedirs(preprocessing_dir, exist_ok=True)\n",
    "\n",
    "mp3_files = find_mp3_files(raw_data_dir)\n",
    "wav_files = []\n",
    "\n",
    "for mp3_file in mp3_files:\n",
    "    unique_wav_file = generate_unique_filename(mp3_file)\n",
    "    wav_file_path = os.path.join(preprocessing_dir, unique_wav_file)\n",
    "    convert_mp3_to_wav(mp3_file, wav_file_path)\n",
    "    wav_files.append(wav_file_path)\n",
    "\n",
    "output_path = os.path.join(preprocessing_dir, \"full_audio.wav\")\n",
    "merge_wav_files(wav_files, output_path)\n",
    "print(f\"Combined audio saved to {output_path}\")"
   ]
  }
 ],
 "metadata": {
  "kernelspec": {
   "display_name": "gmaaudioenv",
   "language": "python",
   "name": "python3"
  },
  "language_info": {
   "codemirror_mode": {
    "name": "ipython",
    "version": 3
   },
   "file_extension": ".py",
   "mimetype": "text/x-python",
   "name": "python",
   "nbconvert_exporter": "python",
   "pygments_lexer": "ipython3",
   "version": "3.10.12"
  }
 },
 "nbformat": 4,
 "nbformat_minor": 2
}
