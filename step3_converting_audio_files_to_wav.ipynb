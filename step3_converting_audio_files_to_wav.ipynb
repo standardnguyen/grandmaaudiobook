{
 "cells": [
  {
   "cell_type": "code",
   "execution_count": 1,
   "metadata": {},
   "outputs": [],
   "source": [
    "import os\n",
    "from pydub import AudioSegment\n",
    "\n",
    "# Function to convert mp3 to wav\n",
    "def convert_mp3_to_wav(mp3_file_path, wav_file_path):\n",
    "    audio = AudioSegment.from_mp3(mp3_file_path)\n",
    "    audio.export(wav_file_path, format=\"wav\")\n",
    "    print(f\"Converted {mp3_file_path} to {wav_file_path}\")\n",
    "\n",
    "# Root directory\n",
    "root_dir = \"raw_data\"\n",
    "\n",
    "# Traverse the directory\n",
    "for dirpath, dirnames, filenames in os.walk(root_dir):\n",
    "    print(dirpath)\n",
    "    if \"mp3parts\" in dirnames and \"wavparts\" in dirnames:\n",
    "        mp3_dir = os.path.join(dirpath, \"mp3parts\")\n",
    "        wav_dir = os.path.join(dirpath, \"wavparts\")\n",
    "        \n",
    "        # Create wavparts directory if it doesn't exist\n",
    "        if not os.path.exists(wav_dir):\n",
    "            os.makedirs(wav_dir)\n",
    "        \n",
    "        # Check mp3 files and convert if necessary\n",
    "        for filename in os.listdir(mp3_dir):\n",
    "            if filename.endswith(\".mp3\"):\n",
    "                mp3_file_path = os.path.join(mp3_dir, filename)\n",
    "                wav_file_path = os.path.join(wav_dir, os.path.splitext(filename)[0] + \".wav\")\n",
    "                \n",
    "                if not os.path.exists(wav_file_path):\n",
    "                    convert_mp3_to_wav(mp3_file_path, wav_file_path)\n",
    "                    print(\"\\t\", wav_file_path)\n",
    "\n",
    "print(\"Conversion process completed.\")\n"
   ]
  }
 ],
 "metadata": {
  "kernelspec": {
   "display_name": "gmaaudioenv",
   "language": "python",
   "name": "python3"
  },
  "language_info": {
   "codemirror_mode": {
    "name": "ipython",
    "version": 3
   },
   "file_extension": ".py",
   "mimetype": "text/x-python",
   "name": "python",
   "nbconvert_exporter": "python",
   "pygments_lexer": "ipython3",
   "version": "3.10.12"
  }
 },
 "nbformat": 4,
 "nbformat_minor": 2
}
