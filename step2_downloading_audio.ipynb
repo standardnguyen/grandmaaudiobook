{
 "cells": [
  {
   "cell_type": "code",
   "execution_count": null,
   "metadata": {},
   "outputs": [],
   "source": [
    "import os\n",
    "import requests\n",
    "from bs4 import BeautifulSoup\n",
    "\n",
    "def extract_archive_urls(html):\n",
    "    soup = BeautifulSoup(html, 'html.parser')\n",
    "    urls = []\n",
    "    for a in soup.find_all('a', href=True):\n",
    "        if 'archive.org/download' in a['href']:\n",
    "            urls.append(a['href'])\n",
    "    return urls\n",
    "\n",
    "def download_file(url, dest_folder, file_name):\n",
    "    file_path = os.path.join(dest_folder, file_name)\n",
    "    if not os.path.exists(file_path):\n",
    "        response = requests.get(url, stream=True)\n",
    "        if response.status_code == 200:\n",
    "            with open(file_path, 'wb') as f:\n",
    "                for chunk in response.iter_content(1024):\n",
    "                    f.write(chunk)\n",
    "            print(f\"Downloaded {file_name}\")\n",
    "        else:\n",
    "            print(f\"Failed to download {url}\")\n",
    "    else:\n",
    "        print(f\"{file_name} already exists. Skipping download.\")\n",
    "\n",
    "def process_directories(base_path):\n",
    "    for dir_name in os.listdir(base_path):\n",
    "        dir_path = os.path.join(base_path, dir_name)\n",
    "        if os.path.isdir(dir_path):\n",
    "            urls_file_path = os.path.join(dir_path, 'urls.html')\n",
    "            mp3parts_path = os.path.join(dir_path, 'mp3parts')\n",
    "            \n",
    "            if os.path.exists(urls_file_path) and os.path.isdir(mp3parts_path):\n",
    "                with open(urls_file_path, 'r', encoding='utf-8') as file:\n",
    "                    html_content = file.read()\n",
    "                \n",
    "                urls = extract_archive_urls(html_content)\n",
    "                \n",
    "                for idx, url in enumerate(urls):\n",
    "                    file_name = f\"{idx + 1:03d}.mp3\"\n",
    "                    download_file(url, mp3parts_path, file_name)\n",
    "\n",
    "# Set the base path to the 'raw_data' directory\n",
    "base_path = \"./raw_data\"\n",
    "\n",
    "# Process the directories\n",
    "process_directories(base_path)\n"
   ]
  },
  {
   "cell_type": "code",
   "execution_count": null,
   "metadata": {},
   "outputs": [],
   "source": []
  }
 ],
 "metadata": {
  "language_info": {
   "name": "python"
  }
 },
 "nbformat": 4,
 "nbformat_minor": 2
}
