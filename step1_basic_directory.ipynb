{
 "cells": [
  {
   "cell_type": "code",
   "execution_count": 7,
   "metadata": {},
   "outputs": [],
   "source": [
    "import os"
   ]
  },
  {
   "cell_type": "code",
   "execution_count": 8,
   "metadata": {},
   "outputs": [],
   "source": [
    "dir_names = [\n",
    "    \"am_quy_doi_no\",\n",
    "    \"toi_thich_em\",\n",
    "    \"40_ngay_ket_hon\",\n",
    "    \"duc_vang_chiem_huu\",\n",
    "    \"anh_se_phai_yeu_em\",\n",
    "    \"o_que_binh_duong\"\n",
    "]\n",
    "\n",
    "base_path = \"./raw_data\"\n",
    "def create_directories(base_path, dir_names):\n",
    "    for name in dir_names:\n",
    "        dir_path = os.path.join(base_path, name)\n",
    "        sub_dir_path = os.path.join(dir_path, \"mp3parts\")\n",
    "        wav_dir_path = os.path.join(dir_path, \"wavparts\")\n",
    "        \n",
    "        os.makedirs(sub_dir_path, exist_ok=True)\n",
    "        os.makedirs(wav_dir_path, exist_ok=True)\n",
    "\n",
    "create_directories(base_path, dir_names)"
   ]
  }
 ],
 "metadata": {
  "kernelspec": {
   "display_name": "gmaaudioenv",
   "language": "python",
   "name": "python3"
  },
  "language_info": {
   "codemirror_mode": {
    "name": "ipython",
    "version": 3
   },
   "file_extension": ".py",
   "mimetype": "text/x-python",
   "name": "python",
   "nbconvert_exporter": "python",
   "pygments_lexer": "ipython3",
   "version": "3.10.12"
  }
 },
 "nbformat": 4,
 "nbformat_minor": 2
}
